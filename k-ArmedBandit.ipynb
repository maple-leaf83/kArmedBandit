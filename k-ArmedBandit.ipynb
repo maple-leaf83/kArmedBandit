{
 "cells": [
  {
   "cell_type": "markdown",
   "id": "0430d3bd",
   "metadata": {},
   "source": [
    "Initializations "
   ]
  },
  {
   "cell_type": "code",
   "execution_count": 61,
   "id": "1ba3d08d",
   "metadata": {},
   "outputs": [],
   "source": [
    "import numpy as np\n",
    "import matplotlib.pyplot as plt\n",
    "import random\n",
    "from math import sqrt, log\n",
    "# import print_options\n",
    "np.set_printoptions(precision=3)"
   ]
  },
  {
   "cell_type": "markdown",
   "id": "a3b19c12",
   "metadata": {},
   "source": [
    "Create a class to define the karmed-bandit problem. "
   ]
  },
  {
   "cell_type": "code",
   "execution_count": 17,
   "id": "943c9907",
   "metadata": {},
   "outputs": [],
   "source": [
    "class Bandit(object):\n",
    "    \"\"\"\n",
    "    Class that defines the k-armed Bandit. Rewards of the arms are assumed\n",
    "    to be drawn from a normal distribution with standard deviation = 1\n",
    "        Parameters:\n",
    "            kArms: Number of arms of k-armed bandit\n",
    "            mu: means of the reward distributions associated with the k-arms\n",
    "\n",
    "    \"\"\"\n",
    "    def __init__(self, kArms, mu, sd, nsflag):\n",
    "        self.kArms = kArms\n",
    "        self.mu = mu\n",
    "        self.sd = sd\n",
    "        self.actionArr = np.zeros(kArms)\n",
    "        self.nonStatFlag = nsflag\n",
    "\n",
    "    def get_reward(self, k):\n",
    "        \"\"\"\n",
    "\n",
    "        :param k: k-th arm\n",
    "        :return: reward\n",
    "        \"\"\"\n",
    "        return np.random.normal(self.mu[k], 1)\n",
    "    \n",
    "    \n",
    "    def update_mu(self):\n",
    "        t = np.random.normal(0, 0.001, self.kArms)  # update to means\n",
    "        self.mu = self.mu + t\n",
    "\n",
    "    def plot(self, r,c,x):\n",
    "        \"\"\"\n",
    "        Plots of the mean and std of the k-distributions\n",
    "        \"\"\"\n",
    "        plt.subplot(r,c,x)\n",
    "        plt.plot(np.arange(self.kArms) + 1, self.mu, 'ro', label='Bandit')\n",
    "        plt.errorbar(np.arange(self.kArms)+1, self.mu, yerr=np.ones(self.kArms), fmt='none', label='SD')\n",
    "        plt.grid()\n",
    "        plt.legend()\n",
    "        # plt.show()"
   ]
  },
  {
   "cell_type": "markdown",
   "id": "f0946309",
   "metadata": {},
   "source": [
    "Now a class to define the agent and how it updates it's choices based on rewards "
   ]
  },
  {
   "cell_type": "code",
   "execution_count": 110,
   "id": "ad9753f5",
   "metadata": {},
   "outputs": [],
   "source": [
    "class Agent(object):\n",
    "    \"\"\"\n",
    "    Class that defines the agent trying to identify the arm with the best reward\n",
    "        Parameters:\n",
    "            iternum: number of iteration that the agent goes through\n",
    "            eps: probability with which the agent chooses an action at random,\n",
    "                otherwise makes greedy choices\n",
    "            nArms: number of arms of the bandit\n",
    "    \"\"\"\n",
    "    def __init__(self, eps, nArms, init_val, ucb = 0, c=1):\n",
    "        # self.iter = iternum\n",
    "        self.eps = eps\n",
    "        self.t = 0\n",
    "        self.Qarray = init_val * np.ones(shape=(nArms))\n",
    "        self.Narray = np.zeros(shape=(nArms))\n",
    "        self.nArms = nArms\n",
    "        if ucb == 0:\n",
    "            self.mode = 'random'\n",
    "        else:\n",
    "            self.c = c\n",
    "            self.mode = 'ucb'\n",
    "            \n",
    "\n",
    "    def action(self):\n",
    "        \"\"\"\n",
    "        Makes a choice based on mode\n",
    "        :param mode: random or UCB. If random, the choice is made using the eps-greedy approach. \n",
    "        :return: action index a\n",
    "        \"\"\"\n",
    "        if self.mode == 'random':\n",
    "            choiceProb = np.random.uniform(0, 1, 1)\n",
    "\n",
    "            if choiceProb <= self.eps:\n",
    "                a = random.choice(range(self.nArms))\n",
    "            else:\n",
    "                maxQ = np.max(self.Qarray)\n",
    "                possibleActions = [i for i, x in enumerate(self.Qarray) if x == maxQ]\n",
    "                a = np.random.choice(possibleActions)\n",
    "        else:\n",
    "            if self.t == 0:\n",
    "                a = np.random.choice(range(self.nArms))\n",
    "            else:\n",
    "                ActArray = np.zeros(self.nArms) # array to hold UCB value\n",
    "                for j in range(self.nArms):\n",
    "                    if self.Narray[j] == 0 or self.t <= 2*self.nArms:\n",
    "                        ActArray[j] = self.Qarray[j]\n",
    "                    else:\n",
    "                        ActArray[j] = self.Qarray[j] + self.c*sqrt(log(self.t)/self.Narray[j])\n",
    "#                 print(ActArray)\n",
    "                maxA = np.max(ActArray)\n",
    "                possibleActions = [i for i, x in enumerate(ActArray) if x == maxA]\n",
    "                a = np.random.choice(possibleActions) # select value of action\n",
    "                \n",
    "            self.t = self.t + 1 # update time \n",
    "            self.Narray[a] = self.Narray[a] + 1 #update action array\n",
    "                        \n",
    "        return a\n",
    "\n",
    "    def get_best_action(self):\n",
    "        # print(self.Qarray)\n",
    "        return np.argmax(self.Qarray)"
   ]
  },
  {
   "cell_type": "markdown",
   "id": "2346f69a",
   "metadata": {},
   "source": [
    "Now a class for the Environment "
   ]
  },
  {
   "cell_type": "code",
   "execution_count": 41,
   "id": "e8248884",
   "metadata": {},
   "outputs": [],
   "source": [
    "class Environment(object):\n",
    "    def __init__(self, test, agent, plays):\n",
    "        self.bandit = test\n",
    "        self.agent = agent\n",
    "        self.plays = plays\n",
    "        self.Rarray = np.zeros(shape=plays)\n",
    "        self.play()\n",
    "        \n",
    "    def play(self):\n",
    "        \"\"\"\n",
    "        iteratively plays choosing actions at random or taking the greedy\n",
    "        approach with probability eps\n",
    "\n",
    "        \"\"\"\n",
    "        for i in range(self.plays):\n",
    "            a = self.agent.action()\n",
    "            self.update_agent(a, i)\n",
    "            if self.bandit.nonStatFlag == 1 and i%10 == 0:\n",
    "                self.bandit.update_mu()\n",
    "\n",
    "\n",
    "    def update_agent(self, a, index):\n",
    "        \"\"\"\n",
    "        Update agent with feedback from bandit\n",
    "\n",
    "            :param a: action number\n",
    "            :param index: index of play\n",
    "            :return: none\n",
    "        \"\"\"\n",
    "        reward = self.bandit.get_reward(a)\n",
    "        self.agent.Narray[a] = self.agent.Narray[a] + 1\n",
    "        self.agent.Qarray[a] = self.agent.Qarray[a] + (1 / self.agent.Narray[a]) * (reward - self.agent.Qarray[a])\n",
    "        self.Rarray[index] = np.max(self.agent.Qarray)"
   ]
  },
  {
   "cell_type": "code",
   "execution_count": 42,
   "id": "e9a723b2",
   "metadata": {},
   "outputs": [
    {
     "data": {
      "image/png": "[encoded data removed]",
      "text/plain": [
       "<Figure size 432x288 with 1 Axes>"
      ]
     },
     "metadata": {
      "needs_background": "light"
     },
     "output_type": "display_data"
    }
   ],
   "source": [
    "kArms = 10\n",
    "mu_range = [i for i in np.arange(-1, 1, 0.2)]\n",
    "mu = np.array(random.sample(mu_range, kArms)) # means of k-distributions\n",
    "mu = [0.1, 0.75, 0.2, -0.4, -0.1, 0, 0.2, -0.3, -0.5, 0.4]\n",
    "sd = np.random.uniform(0.5, 1.5, 10)\n",
    "\n",
    "# set up bandit\n",
    "bandit = Bandit(kArms=kArms, mu=mu, sd = sd, nsflag = 0)\n",
    "bandit.plot(1,1,1)# visualize karmed bandit "
   ]
  },
  {
   "cell_type": "code",
   "execution_count": 47,
   "id": "54c1f6e9",
   "metadata": {},
   "outputs": [
    {
     "name": "stdout",
     "output_type": "stream",
     "text": [
      "Mu vs estimate (greedy) =  0.75 0.7351337121201276\n",
      "Mu vs estimate (eps = 0.01) =  0.75 0.7583265343130663\n",
      "Mu vs estimate (eps = 0.1) =  0.75 0.746896656930675\n"
     ]
    }
   ],
   "source": [
    "# set up greedy, and two eplison agents \n",
    "agent1 = Agent(0, kArms, 0, ucb=0) # greedy\n",
    "agent2 = Agent(0.01, kArms, 0, ucb=0) #eps = 0.01\n",
    "agent3 = Agent(0.1, kArms, 0, ucb=0) #eps = 0.1\n",
    "plays = 2500\n",
    "env1 = Environment(bandit, agent1, plays)\n",
    "env2 = Environment(bandit, agent2, plays)\n",
    "env3 = Environment(bandit, agent3, plays)\n",
    "\n",
    "print(\"Mu vs estimate (greedy) = \", bandit.mu[agent1.get_best_action()], \n",
    "      agent1.Qarray[agent1.get_best_action()])\n",
    "print(\"Mu vs estimate (eps = 0.01) = \", bandit.mu[agent2.get_best_action()], \n",
    "      agent2.Qarray[agent2.get_best_action()])\n",
    "print(\"Mu vs estimate (eps = 0.1) = \", bandit.mu[agent3.get_best_action()], \n",
    "      agent3.Qarray[agent3.get_best_action()])"
   ]
  },
  {
   "cell_type": "markdown",
   "id": "5a2d482a",
   "metadata": {},
   "source": [
    "Create plots to visualize iterative process"
   ]
  },
  {
   "cell_type": "code",
   "execution_count": 48,
   "id": "beefe78e",
   "metadata": {},
   "outputs": [
    {
     "data": {
      "text/plain": [
       "<matplotlib.legend.Legend at 0x7ff962332e20>"
      ]
     },
     "execution_count": 48,
     "metadata": {},
     "output_type": "execute_result"
    },
    {
     "data": {
      "image/png": "[encoded data removed]",
      "text/plain": [
       "<Figure size 432x288 with 1 Axes>"
      ]
     },
     "metadata": {
      "needs_background": "light"
     },
     "output_type": "display_data"
    }
   ],
   "source": [
    "plt.plot(range(plays), env1.Rarray, 'r', label='greedy')\n",
    "plt.plot(range(plays), env2.Rarray, 'darkslategrey', label='0.01')\n",
    "plt.plot(range(plays), env3.Rarray, 'darkviolet', label='0.1')\n",
    "plt.grid()\n",
    "plt.ylabel('Average Reward')\n",
    "plt.xlabel('Iteration')\n",
    "plt.legend()"
   ]
  },
  {
   "cell_type": "code",
   "execution_count": 49,
   "id": "b7f25721",
   "metadata": {},
   "outputs": [
    {
     "name": "stdout",
     "output_type": "stream",
     "text": [
      "Mu vs estimate (optimistic greedy) =  0.75 0.7305124996358598\n",
      "Mu vs estimate (eps = 0.1) =  0.75 0.7513763191733797\n"
     ]
    },
    {
     "data": {
      "text/plain": [
       "<matplotlib.legend.Legend at 0x7ff9405ad3a0>"
      ]
     },
     "execution_count": 49,
     "metadata": {},
     "output_type": "execute_result"
    },
    {
     "data": {
      "image/png": "[encoded data removed]",
      "text/plain": [
       "<Figure size 432x288 with 1 Axes>"
      ]
     },
     "metadata": {
      "needs_background": "light"
     },
     "output_type": "display_data"
    }
   ],
   "source": [
    "# now explore optimistic initial values \n",
    "# set up greedy, and one eplison agents \n",
    "agent1 = Agent(0, kArms, 15) # greedy\n",
    "agent2 = Agent(0.1, kArms, 0) #eps = 0.01\n",
    "\n",
    "plays = 2500\n",
    "env1 = Environment(bandit, agent1, plays)\n",
    "env2 = Environment(bandit, agent2, plays)\n",
    "\n",
    "\n",
    "print(\"Mu vs estimate (optimistic greedy) = \", bandit.mu[agent1.get_best_action()], \n",
    "      agent1.Qarray[agent1.get_best_action()])\n",
    "print(\"Mu vs estimate (eps = 0.1) = \", bandit.mu[agent2.get_best_action()], \n",
    "      agent2.Qarray[agent2.get_best_action()])\n",
    "\n",
    "# plots\n",
    "plt.plot(range(plays), env1.Rarray, 'r', label='Optimstic Greedy')\n",
    "plt.plot(range(plays), env3.Rarray, 'darkviolet', label='0.1')\n",
    "plt.grid()\n",
    "plt.ylabel('Average Reward')\n",
    "plt.xlabel('Iteration')\n",
    "plt.legend()\n"
   ]
  },
  {
   "cell_type": "code",
   "execution_count": 67,
   "id": "70d735f5",
   "metadata": {},
   "outputs": [
    {
     "name": "stdout",
     "output_type": "stream",
     "text": [
      "Mu vs estimate (optimistic greedy) =  0.19835934548104936 0.20951067763349518\n",
      "Mu vs estimate (eps = 0.1) =  0.788251721715117 0.7601120857844723\n"
     ]
    },
    {
     "data": {
      "image/png": "[encoded data removed]",
      "text/plain": [
       "<Figure size 432x288 with 1 Axes>"
      ]
     },
     "metadata": {
      "needs_background": "light"
     },
     "output_type": "display_data"
    },
    {
     "data": {
      "image/png": "[encoded data removed]",
      "text/plain": [
       "<Figure size 432x288 with 1 Axes>"
      ]
     },
     "metadata": {
      "needs_background": "light"
     },
     "output_type": "display_data"
    }
   ],
   "source": [
    "# how about when the bandit is non-stationary? \n",
    "bandit = Bandit(kArms=kArms, mu=mu, sd = sd, nsflag = 1)\n",
    "\n",
    "# set up greedy, and one eplison agents \n",
    "agent1 = Agent(0, kArms, 5) # greedy\n",
    "agent2 = Agent(0.1, kArms, 0) #eps = 0.01\n",
    "\n",
    "plays = 2500\n",
    "env1 = Environment(bandit, agent1, plays)\n",
    "env2 = Environment(bandit, agent2, plays)\n",
    "\n",
    "\n",
    "print(\"Mu vs estimate (optimistic greedy) = \", bandit.mu[agent1.get_best_action()], \n",
    "      agent1.Qarray[agent1.get_best_action()])\n",
    "print(\"Mu vs estimate (eps = 0.1) = \", bandit.mu[agent2.get_best_action()], \n",
    "      agent2.Qarray[agent2.get_best_action()])\n",
    "\n",
    "# plots\n",
    "\n",
    "plt.plot(np.arange(kArms) + 1, mu, 'ro', label='Mu (Original)')\n",
    "plt.errorbar(np.arange(kArms)+1, mu, yerr=sd, fmt='none', label='SD (original)')\n",
    "plt.plot(np.arange(kArms) + 1, bandit.mu, 'bo', label='Final Mu')\n",
    "# plt.errorbar(np.arange(kArms)+1, mu, yerr=bandit.sd, fmt='none', label='SD (Final)')\n",
    "plt.grid()\n",
    "plt.legend()\n",
    "plt.show()\n",
    "\n",
    "plt.plot(range(plays), env1.Rarray, 'r', label='Optimstic Greedy')\n",
    "plt.plot(range(plays), env3.Rarray, 'darkviolet', label='0.1')\n",
    "plt.grid()\n",
    "plt.ylabel('Average Reward')\n",
    "plt.xlabel('Iteration')\n",
    "plt.legend()\n",
    "plt.show()"
   ]
  },
  {
   "cell_type": "markdown",
   "id": "471a251f",
   "metadata": {},
   "source": [
    "Let's try the upper confidence bound action selection "
   ]
  },
  {
   "cell_type": "code",
   "execution_count": 118,
   "id": "808628be",
   "metadata": {},
   "outputs": [
    {
     "name": "stdout",
     "output_type": "stream",
     "text": [
      "Mu vs estimate (optimistic greedy) =  0.75 0.7402859783531511\n",
      "Mu vs estimate (eps = 0.1) =  0.75 0.7351360803303266\n"
     ]
    },
    {
     "data": {
      "image/png": "[encoded data removed]",
      "text/plain": [
       "<Figure size 432x288 with 1 Axes>"
      ]
     },
     "metadata": {
      "needs_background": "light"
     },
     "output_type": "display_data"
    }
   ],
   "source": [
    "bandit = Bandit(kArms=kArms, mu=mu, sd = sd, nsflag=0)\n",
    "\n",
    "# set up greedy, and one eplison agents \n",
    "agent1 = Agent(0.1, kArms, 2) # greedy\n",
    "agent2 = Agent(0, kArms, 0, ucb=1, c=4) #eps = 0.1\n",
    "\n",
    "plays = 2500\n",
    "env1 = Environment(bandit, agent1, plays)\n",
    "env2 = Environment(bandit, agent2, plays)\n",
    "\n",
    "\n",
    "print(\"Mu vs estimate (optimistic greedy) = \", bandit.mu[agent1.get_best_action()], \n",
    "      agent1.Qarray[agent1.get_best_action()])\n",
    "print(\"Mu vs estimate (eps = 0.1) = \", bandit.mu[agent2.get_best_action()], \n",
    "      agent2.Qarray[agent2.get_best_action()])\n",
    "\n",
    "\n",
    "plt.plot(range(plays), env1.Rarray, 'r', label='Eps Greedy (' + str(agent1.eps) + ')')\n",
    "plt.plot(range(plays), env2.Rarray, 'teal', label='UCB, c=' + str(agent2.c))\n",
    "plt.grid()\n",
    "plt.ylabel('Average Reward')\n",
    "plt.xlabel('Iteration')\n",
    "plt.legend()\n",
    "plt.show()"
   ]
  },
  {
   "cell_type": "code",
   "execution_count": null,
   "id": "2a2c0934",
   "metadata": {},
   "outputs": [],
   "source": []
  }
 ],
 "metadata": {
  "kernelspec": {
   "display_name": "Python 3",
   "language": "python",
   "name": "python3"
  },
  "language_info": {
   "codemirror_mode": {
    "name": "ipython",
    "version": 3
   },
   "file_extension": ".py",
   "mimetype": "text/x-python",
   "name": "python",
   "nbconvert_exporter": "python",
   "pygments_lexer": "ipython3",
   "version": "3.8.8"
  }
 },
 "nbformat": 4,
 "nbformat_minor": 5
}
